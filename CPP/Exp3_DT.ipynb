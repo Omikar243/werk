{
 "cells": [
  {
   "cell_type": "markdown",
   "id": "ee8c8c5f",
   "metadata": {},
   "source": [
    "### 3. Aim: To construct the Decision tree using the training data sets under supervised learning concept. "
   ]
  },
  {
   "cell_type": "code",
   "execution_count": 10,
   "id": "d7fdc061",
   "metadata": {},
   "outputs": [
    {
     "data": {
      "text/plain": [
       "'Outlook'"
      ]
     },
     "execution_count": 10,
     "metadata": {},
     "output_type": "execute_result"
    }
   ],
   "source": [
    "import pandas as pd \n",
    "from pandas import DataFrame \n",
    "from math import log \n",
    "from collections import Counter \n",
    "from pprint import pprint \n",
    "\n",
    "df_tennis = pd.read_csv('tennis.csv') \n",
    "df_tennis.keys()[0] "
   ]
  },
  {
   "cell_type": "code",
   "execution_count": 11,
   "id": "39530908",
   "metadata": {},
   "outputs": [],
   "source": [
    "def entropy(probs): \n",
    "    return sum([-prob * log(prob, 2) for prob in probs]) \n",
    "\n",
    "def entropy_of_list(a_list): \n",
    "    cnt = Counter(x for x in a_list) \n",
    "    num_instances = len(a_list) * 1.0 \n",
    "    probs = [x / num_instances for x in cnt.values()] \n",
    "    return entropy(probs) \n",
    "\n",
    "def information_gain(df, split_attribute_name, target_attribute_name): \n",
    "    df_split = df.groupby(split_attribute_name) \n",
    "    nobs = len(df.index) * 1.0 \n",
    "    df_agg_ent = df_split.agg({target_attribute_name: [entropy_of_list, lambda x: len(x)/nobs]})[target_attribute_name] \n",
    "    df_agg_ent.columns = ['Entropy', 'PropObservations']\n",
    "    new_entropy = sum(df_agg_ent['Entropy'] * df_agg_ent['PropObservations']) \n",
    "    old_entropy = entropy_of_list(df[target_attribute_name]) \n",
    "    return old_entropy - new_entropy \n",
    "\n",
    "def id3(df, target_attribute_name, attribute_names, default_class=None): \n",
    "    cnt = Counter(x for x in df[target_attribute_name]) \n",
    "    if len(cnt) == 1: \n",
    "        return next(iter(cnt)) \n",
    "    elif df.empty or (not attribute_names): \n",
    "        return default_class \n",
    "    else: \n",
    "        default_class = max(cnt.keys()) \n",
    "        gainz= [information_gain(df, attr, target_attribute_name) for attr in attribute_names] \n",
    "        index_of_max = gainz. index(max(gainz)) \n",
    "        best_attr = attribute_names[index_of_max] \n",
    "        tree = {best_attr:{}} \n",
    "        remaining_attribute_names = [i for i in attribute_names if i != best_attr] \n",
    "        \n",
    "        for attr_val, data_subset in df.groupby(best_attr): \n",
    "            subtree = id3(data_subset, target_attribute_name, remaining_attribute_names, default_class) \n",
    "            tree[best_attr][attr_val] = subtree \n",
    "    return tree "
   ]
  },
  {
   "cell_type": "code",
   "execution_count": 12,
   "id": "606641fe",
   "metadata": {},
   "outputs": [
    {
     "name": "stdout",
     "output_type": "stream",
     "text": [
      "\n",
      "\n",
      "The Resultant Decision Tree is: \n",
      "\n",
      "{'Outlook': {'Overcast': 'Yes',\n",
      "             'Rain': {'Wind': {'Strong': 'No', 'Weak': 'Yes'}},\n",
      "             'Sunny': {'Humidity': {'High': 'No', 'Normal': 'Yes'}}}}\n"
     ]
    }
   ],
   "source": [
    "attribute_names = list(df_tennis.columns) \n",
    "\n",
    "attribute_names.remove('PlayTennis') \n",
    "\n",
    "tree = id3(df_tennis, 'PlayTennis', attribute_names) \n",
    "\n",
    "print(\"\\n\\nThe Resultant Decision Tree is: \\n\") \n",
    "pprint(tree) "
   ]
  }
 ],
 "metadata": {
  "kernelspec": {
   "display_name": "Python 3 (ipykernel)",
   "language": "python",
   "name": "python3"
  },
  "language_info": {
   "codemirror_mode": {
    "name": "ipython",
    "version": 3
   },
   "file_extension": ".py",
   "mimetype": "text/x-python",
   "name": "python",
   "nbconvert_exporter": "python",
   "pygments_lexer": "ipython3",
   "version": "3.9.7"
  }
 },
 "nbformat": 4,
 "nbformat_minor": 5
}
