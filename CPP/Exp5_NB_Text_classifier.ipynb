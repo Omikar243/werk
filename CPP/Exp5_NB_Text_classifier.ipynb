{
 "cells": [
  {
   "cell_type": "markdown",
   "id": "4b520b1f",
   "metadata": {},
   "source": [
    "### 5. Demonstrate the text classifier using Naïve bayes classifier algorithm."
   ]
  },
  {
   "cell_type": "code",
   "execution_count": 1,
   "id": "1c465346",
   "metadata": {},
   "outputs": [
    {
     "name": "stdout",
     "output_type": "stream",
     "text": [
      "Total Instances of Dataset:  18\n"
     ]
    }
   ],
   "source": [
    "import pandas as pd \n",
    "\n",
    "msg = pd.read_csv('document.csv', names=['message', 'label']) \n",
    "print(\"Total Instances of Dataset: \", msg.shape[0]) \n",
    "msg['labelnum'] = msg.label.map({'pos': 1, 'neg': 0}) "
   ]
  },
  {
   "cell_type": "code",
   "execution_count": 2,
   "id": "0f17147e",
   "metadata": {},
   "outputs": [],
   "source": [
    "X = msg.message \n",
    "y = msg.labelnum \n",
    "from sklearn.feature_extraction.text import CountVectorizer \n",
    "from sklearn.model_selection import train_test_split "
   ]
  },
  {
   "cell_type": "code",
   "execution_count": 3,
   "id": "bed1f7b9",
   "metadata": {},
   "outputs": [],
   "source": [
    "X_train, X_test, y_train, y_test = train_test_split(X, y) \n",
    "count_v = CountVectorizer() \n",
    "X_train_dm = count_v.fit_transform(X_train) \n",
    "X_test_dm = count_v.transform(X_test) "
   ]
  },
  {
   "cell_type": "code",
   "execution_count": 4,
   "id": "0ff0c5ea",
   "metadata": {},
   "outputs": [],
   "source": [
    "df = pd.DataFrame(X_train_dm.toarray(), columns = count_v.get_feature_names()) "
   ]
  },
  {
   "cell_type": "code",
   "execution_count": 5,
   "id": "5b763045",
   "metadata": {},
   "outputs": [],
   "source": [
    "from sklearn.naive_bayes import MultinomialNB \n",
    "clf = MultinomialNB().fit(X_train_dm, y_train) "
   ]
  },
  {
   "cell_type": "code",
   "execution_count": 6,
   "id": "2233b6c1",
   "metadata": {},
   "outputs": [
    {
     "name": "stdout",
     "output_type": "stream",
     "text": [
      "I love to dance -> neg\n",
      "I can't deal with this -> neg\n",
      "What an awesome view -> pos\n",
      "This is my best work -> neg\n",
      "I am sick and tired of this place -> neg\n"
     ]
    }
   ],
   "source": [
    "pred = clf.predict(X_test_dm) \n",
    "for doc, p in zip(X_test, pred): \n",
    "    p = 'pos' if p == 1 else 'neg' \n",
    "    print(f\"{doc} -> {p}\") "
   ]
  },
  {
   "cell_type": "code",
   "execution_count": 7,
   "id": "a5673cd2",
   "metadata": {},
   "outputs": [
    {
     "name": "stdout",
     "output_type": "stream",
     "text": [
      "Accuracy Metrics: \n",
      "\n",
      "Accuracy:  0.6\n",
      "Recall:  0.3333333333333333\n",
      "Precision: 1.0\n",
      "Confusion Matrix: \n",
      " [[2 0]\n",
      " [2 1]]\n"
     ]
    }
   ],
   "source": [
    "from sklearn.metrics import (accuracy_score, confusion_matrix, precision_score, recall_score) \n",
    "print('Accuracy Metrics: \\n')\n",
    "print('Accuracy: ', accuracy_score (y_test, pred)) \n",
    "print('Recall: ',recall_score (y_test, pred))\n",
    "print('Precision:',precision_score (y_test, pred))\n",
    "print('Confusion Matrix: \\n', confusion_matrix(y_test,pred))"
   ]
  }
 ],
 "metadata": {
  "kernelspec": {
   "display_name": "Python 3 (ipykernel)",
   "language": "python",
   "name": "python3"
  },
  "language_info": {
   "codemirror_mode": {
    "name": "ipython",
    "version": 3
   },
   "file_extension": ".py",
   "mimetype": "text/x-python",
   "name": "python",
   "nbconvert_exporter": "python",
   "pygments_lexer": "ipython3",
   "version": "3.9.7"
  }
 },
 "nbformat": 4,
 "nbformat_minor": 5
}
