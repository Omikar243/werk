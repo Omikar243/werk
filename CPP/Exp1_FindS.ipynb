{
 "cells": [
  {
   "cell_type": "markdown",
   "id": "711e0c37",
   "metadata": {},
   "source": [
    "### 1. Aim: Illustrate and demonstrate the working model and principle of Find-S algorithm.\n"
   ]
  },
  {
   "cell_type": "code",
   "execution_count": 1,
   "id": "7360a624",
   "metadata": {
    "scrolled": true
   },
   "outputs": [
    {
     "data": {
      "text/html": [
       "<div>\n",
       "<style scoped>\n",
       "    .dataframe tbody tr th:only-of-type {\n",
       "        vertical-align: middle;\n",
       "    }\n",
       "\n",
       "    .dataframe tbody tr th {\n",
       "        vertical-align: top;\n",
       "    }\n",
       "\n",
       "    .dataframe thead th {\n",
       "        text-align: right;\n",
       "    }\n",
       "</style>\n",
       "<table border=\"1\" class=\"dataframe\">\n",
       "  <thead>\n",
       "    <tr style=\"text-align: right;\">\n",
       "      <th></th>\n",
       "      <th>sky</th>\n",
       "      <th>air temp</th>\n",
       "      <th>humidity</th>\n",
       "      <th>wind</th>\n",
       "      <th>water</th>\n",
       "      <th>forecast</th>\n",
       "      <th>enjoy sport</th>\n",
       "    </tr>\n",
       "  </thead>\n",
       "  <tbody>\n",
       "    <tr>\n",
       "      <th>0</th>\n",
       "      <td>sunny</td>\n",
       "      <td>warm</td>\n",
       "      <td>normal</td>\n",
       "      <td>strong</td>\n",
       "      <td>warm</td>\n",
       "      <td>same</td>\n",
       "      <td>yes</td>\n",
       "    </tr>\n",
       "    <tr>\n",
       "      <th>1</th>\n",
       "      <td>sunny</td>\n",
       "      <td>warm</td>\n",
       "      <td>high</td>\n",
       "      <td>strong</td>\n",
       "      <td>warm</td>\n",
       "      <td>same</td>\n",
       "      <td>yes</td>\n",
       "    </tr>\n",
       "    <tr>\n",
       "      <th>2</th>\n",
       "      <td>rainy</td>\n",
       "      <td>cold</td>\n",
       "      <td>high</td>\n",
       "      <td>strong</td>\n",
       "      <td>warm</td>\n",
       "      <td>change</td>\n",
       "      <td>no</td>\n",
       "    </tr>\n",
       "    <tr>\n",
       "      <th>3</th>\n",
       "      <td>sunny</td>\n",
       "      <td>warm</td>\n",
       "      <td>high</td>\n",
       "      <td>strong</td>\n",
       "      <td>cool</td>\n",
       "      <td>change</td>\n",
       "      <td>yes</td>\n",
       "    </tr>\n",
       "  </tbody>\n",
       "</table>\n",
       "</div>"
      ],
      "text/plain": [
       "     sky air temp humidity    wind water forecast enjoy sport\n",
       "0  sunny     warm   normal  strong  warm     same         yes\n",
       "1  sunny     warm     high  strong  warm     same         yes\n",
       "2  rainy     cold     high  strong  warm   change          no\n",
       "3  sunny     warm     high  strong  cool   change         yes"
      ]
     },
     "execution_count": 1,
     "metadata": {},
     "output_type": "execute_result"
    }
   ],
   "source": [
    "import pandas as pd\n",
    "import numpy as np\n",
    "data = pd.read_csv('data.csv')\n",
    "data"
   ]
  },
  {
   "cell_type": "code",
   "execution_count": 2,
   "id": "180faed7",
   "metadata": {},
   "outputs": [],
   "source": [
    "instance = np.array(data)"
   ]
  },
  {
   "cell_type": "code",
   "execution_count": 3,
   "id": "39d47ab4",
   "metadata": {},
   "outputs": [
    {
     "data": {
      "text/plain": [
       "array([['sunny', 'warm', 'normal', 'strong', 'warm', 'same', 'yes'],\n",
       "       ['sunny', 'warm', 'high', 'strong', 'warm', 'same', 'yes'],\n",
       "       ['rainy', 'cold', 'high', 'strong', 'warm', 'change', 'no'],\n",
       "       ['sunny', 'warm', 'high', 'strong', 'cool', 'change', 'yes']],\n",
       "      dtype=object)"
      ]
     },
     "execution_count": 3,
     "metadata": {},
     "output_type": "execute_result"
    }
   ],
   "source": [
    "instance"
   ]
  },
  {
   "cell_type": "code",
   "execution_count": 4,
   "id": "9d5c7e01",
   "metadata": {},
   "outputs": [
    {
     "name": "stdout",
     "output_type": "stream",
     "text": [
      "\n",
      "The initial value of hypothesis: \n",
      "['0', '0', '0', '0', '0', '0']\n"
     ]
    }
   ],
   "source": [
    "num_attributes=6\n",
    "print(\"\\nThe initial value of hypothesis: \")\n",
    "hypothesis = ['0'] * num_attributes\n",
    "print(hypothesis)"
   ]
  },
  {
   "cell_type": "code",
   "execution_count": 5,
   "id": "77b542b3",
   "metadata": {},
   "outputs": [],
   "source": [
    "for j in range(0,num_attributes):\n",
    "    hypothesis[j] = instance[0][j] "
   ]
  },
  {
   "cell_type": "code",
   "execution_count": 6,
   "id": "55ea0b0b",
   "metadata": {},
   "outputs": [
    {
     "name": "stdout",
     "output_type": "stream",
     "text": [
      "Find S: Finding a Maximally Specific Hypothesis\n",
      "\n",
      "\n",
      "For Training instance No.1 the hypothesis is  ['sunny', 'warm', 'normal', 'strong', 'warm', 'same']\n",
      "\n",
      "For Training instance No.2 the hypothesis is  ['sunny', 'warm', '?', 'strong', 'warm', 'same']\n",
      "\n",
      "For Training instance No.3 the hypothesis is  ['sunny', 'warm', '?', 'strong', 'warm', 'same']\n",
      "\n",
      "For Training instance No.4 the hypothesis is  ['sunny', 'warm', '?', 'strong', '?', '?']\n",
      "\n",
      "\n",
      "The Maximally Specific Hypothesis for a given Training Examples :\n",
      "\n",
      "['sunny', 'warm', '?', 'strong', '?', '?']\n"
     ]
    }
   ],
   "source": [
    "print(\"Find S: Finding a Maximally Specific Hypothesis\\n\") \n",
    "\n",
    "for i in range(len(instance)):\n",
    "    if instance[i][num_attributes]=='yes':\n",
    "        for j in range(num_attributes):\n",
    "            if instance[i][j]!=hypothesis[j]:\n",
    "                hypothesis[j]='?'\n",
    "            else :\n",
    "                hypothesis[j]= instance[i][j] \n",
    "    print(\"\\nFor Training instance No.{} the hypothesis is \".format(i+1), hypothesis)\n",
    "\n",
    "print(\"\\n\\nThe Maximally Specific Hypothesis for a given Training Examples :\\n\")\n",
    "print(hypothesis)"
   ]
  }
 ],
 "metadata": {
  "kernelspec": {
   "display_name": "Python 3 (ipykernel)",
   "language": "python",
   "name": "python3"
  },
  "language_info": {
   "codemirror_mode": {
    "name": "ipython",
    "version": 3
   },
   "file_extension": ".py",
   "mimetype": "text/x-python",
   "name": "python",
   "nbconvert_exporter": "python",
   "pygments_lexer": "ipython3",
   "version": "3.9.7"
  }
 },
 "nbformat": 4,
 "nbformat_minor": 5
}
