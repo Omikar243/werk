{
 "cells": [
  {
   "cell_type": "markdown",
   "id": "7db61aab",
   "metadata": {},
   "source": [
    "#### 10. Aim: Implement and demonstrate classification algorithm using Support Vector Machine algorithm."
   ]
  },
  {
   "cell_type": "code",
   "execution_count": 1,
   "id": "9b5dcf94",
   "metadata": {},
   "outputs": [
    {
     "name": "stdout",
     "output_type": "stream",
     "text": [
      "   sepal length (cm)  sepal width (cm)  petal length (cm)  petal width (cm)  \\\n",
      "0                5.1               3.5                1.4               0.2   \n",
      "1                4.9               3.0                1.4               0.2   \n",
      "2                4.7               3.2                1.3               0.2   \n",
      "3                4.6               3.1                1.5               0.2   \n",
      "4                5.0               3.6                1.4               0.2   \n",
      "\n",
      "   target  \n",
      "0       0  \n",
      "1       0  \n",
      "2       0  \n",
      "3       0  \n",
      "4       0  \n"
     ]
    }
   ],
   "source": [
    "import pandas as pd \n",
    "from sklearn import datasets \n",
    "from sklearn.model_selection import train_test_split \n",
    "from sklearn.svm import SVC \n",
    "from sklearn.metrics import accuracy_score, classification_report, confusion_matrix \n",
    "import matplotlib.pyplot as plt \n",
    "import seaborn as sns \n",
    "\n",
    "# Load the Iris dataset \n",
    "iris= datasets.load_iris() \n",
    "X = iris.data \n",
    "y = iris.target \n",
    "\n",
    "# Convert to DataFrame for better visualization \n",
    "df = pd.DataFrame(data=iris.data, columns=iris.feature_names) \n",
    "df['target'] = iris.target \n",
    "print(df.head()) "
   ]
  },
  {
   "cell_type": "code",
   "execution_count": 2,
   "id": "358f01cc",
   "metadata": {},
   "outputs": [
    {
     "name": "stdout",
     "output_type": "stream",
     "text": [
      "Accuracy: 93.33%\n",
      "\n",
      "Classification Report:\n",
      "              precision    recall  f1-score   support\n",
      "\n",
      "      setosa       1.00      1.00      1.00        13\n",
      "  versicolor       0.86      1.00      0.92        18\n",
      "   virginica       1.00      0.79      0.88        14\n",
      "\n",
      "    accuracy                           0.93        45\n",
      "   macro avg       0.95      0.93      0.93        45\n",
      "weighted avg       0.94      0.93      0.93        45\n",
      "\n"
     ]
    }
   ],
   "source": [
    "# Split the dataset into training and testing sets \n",
    "X_train, X_test, y_train, y_test= train_test_split(X, y, test_size=0.3, random_state=20) \n",
    "\n",
    "# Train the SVM model \n",
    "svm_model = SVC (kernel='linear') # Using Linear kernel for simplicity \n",
    "svm_model.fit(X_train, y_train) \n",
    "\n",
    "# Make predictions \n",
    "y_pred =svm_model.predict(X_test) \n",
    "# Evaluate the model \n",
    "accuracy = accuracy_score(y_test, y_pred) \n",
    "print(f'Accuracy: {accuracy *100:.2f}%')\n",
    "\n",
    "print(\"\\nClassification Report:\") \n",
    "print(classification_report (y_test, y_pred, target_names=iris.target_names)) "
   ]
  },
  {
   "cell_type": "code",
   "execution_count": 3,
   "id": "45a3e5e6",
   "metadata": {},
   "outputs": [
    {
     "name": "stdout",
     "output_type": "stream",
     "text": [
      "\n",
      "Confusion Matrix:\n"
     ]
    },
    {
     "data": {
      "image/png": "[encoded data removed]",
      "text/plain": [
       "<Figure size 432x288 with 2 Axes>"
      ]
     },
     "metadata": {
      "needs_background": "light"
     },
     "output_type": "display_data"
    }
   ],
   "source": [
    "print(\"\\nConfusion Matrix:\") \n",
    "conf_matrix = confusion_matrix (y_test, y_pred) \n",
    "sns.heatmap(conf_matrix, annot=True, cmap='Blues', xticklabels=iris.target_names, yticklabels=iris.target_names) \n",
    "plt.xlabel('Predicted') \n",
    "plt.ylabel('True') \n",
    "plt.show()"
   ]
  }
 ],
 "metadata": {
  "kernelspec": {
   "display_name": "Python 3 (ipykernel)",
   "language": "python",
   "name": "python3"
  },
  "language_info": {
   "codemirror_mode": {
    "name": "ipython",
    "version": 3
   },
   "file_extension": ".py",
   "mimetype": "text/x-python",
   "name": "python",
   "nbconvert_exporter": "python",
   "pygments_lexer": "ipython3",
   "version": "3.9.7"
  }
 },
 "nbformat": 4,
 "nbformat_minor": 5
}
