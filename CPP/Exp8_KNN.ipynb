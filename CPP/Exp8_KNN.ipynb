{
 "cells": [
  {
   "cell_type": "markdown",
   "id": "79941490",
   "metadata": {},
   "source": [
    "#### 8. Aim: Demonstrate and analyse the results of classification based on KNN Algorithm."
   ]
  },
  {
   "cell_type": "code",
   "execution_count": 1,
   "id": "a84d322f",
   "metadata": {},
   "outputs": [],
   "source": [
    "from sklearn.model_selection import train_test_split\n",
    "from sklearn.neighbors import KNeighborsClassifier \n",
    "from sklearn import datasets\n",
    "from sklearn import metrics"
   ]
  },
  {
   "cell_type": "code",
   "execution_count": 2,
   "id": "9c75ead8",
   "metadata": {},
   "outputs": [
    {
     "name": "stdout",
     "output_type": "stream",
     "text": [
      "Iris Data set loaded...\n",
      "Dataset is split into training and testing samples...\n",
      "Size of training data and its label (135, 4) (135,)\n",
      "Size of testing data and its label (15, 4) (15,)\n"
     ]
    }
   ],
   "source": [
    "iris=datasets.load_iris() \n",
    "print(\"Iris Data set loaded...\")\n",
    "x_train, x_test, y_train, y_test = train_test_split(iris.data,iris.target,random_state=60,test_size=0.1)\n",
    "print(\"Dataset is split into training and testing samples...\") \n",
    "print(\"Size of training data and its label\",x_train.shape,y_train.shape) \n",
    "print(\"Size of testing data and its label\",x_test.shape, y_test.shape)"
   ]
  },
  {
   "cell_type": "code",
   "execution_count": 3,
   "id": "af80dc08",
   "metadata": {},
   "outputs": [
    {
     "name": "stdout",
     "output_type": "stream",
     "text": [
      "Label 0 - setosa\n",
      "Label 1 - versicolor\n",
      "Label 2 - virginica\n"
     ]
    }
   ],
   "source": [
    "for i in range(len(iris.target_names)):\n",
    "    print(\"Label\", i , \"-\",str(iris.target_names[i])) \n",
    "    \n",
    "classifier = KNeighborsClassifier(n_neighbors=1)\n",
    "classifier.fit(x_train, y_train)\n",
    "y_pred=classifier.predict(x_test)"
   ]
  },
  {
   "cell_type": "code",
   "execution_count": 4,
   "id": "573a23d8",
   "metadata": {},
   "outputs": [
    {
     "name": "stdout",
     "output_type": "stream",
     "text": [
      "Results of Classification using K-nn with K=1 \n",
      "\n",
      "-------------------------------------------------------------------------\n",
      "Original Label            Predicted Label           Correct/Wrong            \n",
      "-------------------------------------------------------------------------\n",
      "1                         1                         Correct                  \n",
      "1                         1                         Correct                  \n",
      "1                         1                         Correct                  \n",
      "0                         0                         Correct                  \n",
      "1                         1                         Correct                  \n",
      "0                         0                         Correct                  \n",
      "1                         1                         Correct                  \n",
      "0                         0                         Correct                  \n",
      "0                         0                         Correct                  \n",
      "2                         1                         Wrong                    \n",
      "0                         0                         Correct                  \n",
      "0                         0                         Correct                  \n",
      "2                         2                         Correct                  \n",
      "1                         1                         Correct                  \n",
      "2                         2                         Correct                  \n",
      "\n",
      "Confusion Matrix:\n",
      " [[6 0 0]\n",
      " [0 6 0]\n",
      " [0 1 2]]\n",
      "Classification Accuracy : 0.9333333333333333\n"
     ]
    }
   ],
   "source": [
    "print(\"Results of Classification using K-nn with K=1 \") \n",
    "print (\"\\n-------------------------------------------------------------------------\")\n",
    "print ('%-25s %-25s %-25s' % ('Original Label', 'Predicted Label', 'Correct/Wrong'))\n",
    "print (\"-------------------------------------------------------------------------\")\n",
    "for r in range(0,len(x_test)):\n",
    "    print ('%-25s %-25s' % (y_test[r], y_pred[r]), end=\"\")\n",
    "    if (y_test[r] == y_pred[r]):\n",
    "        print (' %-25s' % ('Correct'))\n",
    "    else:\n",
    "        print (' %-25s' % ('Wrong'))\n",
    " \n",
    "print(\"\\nConfusion Matrix:\\n\",metrics.confusion_matrix(y_test,y_pred)) \n",
    "print(\"Classification Accuracy :\" , metrics.accuracy_score(y_test,y_pred));"
   ]
  },
  {
   "cell_type": "code",
   "execution_count": 5,
   "id": "0b305800",
   "metadata": {},
   "outputs": [
    {
     "name": "stdout",
     "output_type": "stream",
     "text": [
      "Classification Accuracy : 0.9333333333333333\n"
     ]
    }
   ],
   "source": [
    "print(\"Classification Accuracy :\" , classifier.score(x_test,y_test));"
   ]
  },
  {
   "cell_type": "code",
   "execution_count": 6,
   "id": "91968f5b",
   "metadata": {},
   "outputs": [
    {
     "name": "stdout",
     "output_type": "stream",
     "text": [
      "              precision    recall  f1-score   support\n",
      "\n",
      "      setosa       1.00      1.00      1.00         6\n",
      "  versicolor       0.86      1.00      0.92         6\n",
      "   virginica       1.00      0.67      0.80         3\n",
      "\n",
      "    accuracy                           0.93        15\n",
      "   macro avg       0.95      0.89      0.91        15\n",
      "weighted avg       0.94      0.93      0.93        15\n",
      "\n"
     ]
    }
   ],
   "source": [
    "cr = metrics.classification_report(y_test, y_pred, target_names=iris.target_names)\n",
    "\n",
    "print(cr)"
   ]
  }
 ],
 "metadata": {
  "kernelspec": {
   "display_name": "Python 3 (ipykernel)",
   "language": "python",
   "name": "python3"
  },
  "language_info": {
   "codemirror_mode": {
    "name": "ipython",
    "version": 3
   },
   "file_extension": ".py",
   "mimetype": "text/x-python",
   "name": "python",
   "nbconvert_exporter": "python",
   "pygments_lexer": "ipython3",
   "version": "3.9.7"
  }
 },
 "nbformat": 4,
 "nbformat_minor": 5
}
