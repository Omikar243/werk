{
  "cells": [
    {
      "cell_type": "markdown",
      "metadata": {
        "id": "view-in-github",
        "colab_type": "text"
      },
      "source": [
        "<a href=\"https://colab.research.google.com/github/Omikar243/werk/blob/main/twittersentiment.ipynb\" target=\"_parent\"><img src=\"https://colab.research.google.com/assets/colab-badge.svg\" alt=\"Open In Colab\"/></a>"
      ]
    },
    {
      "cell_type": "code",
      "execution_count": 1,
      "metadata": {
        "colab": {
          "base_uri": "https://localhost:8080/"
        },
        "id": "9x4hc3WWl_7e",
        "outputId": "6a955beb-afb9-4e31-94c1-3991d16bb314"
      },
      "outputs": [
        {
          "output_type": "stream",
          "name": "stdout",
          "text": [
            "Requirement already satisfied: tweepy in /usr/local/lib/python3.10/dist-packages (4.14.0)\n",
            "Requirement already satisfied: oauthlib<4,>=3.2.0 in /usr/local/lib/python3.10/dist-packages (from tweepy) (3.2.2)\n",
            "Requirement already satisfied: requests<3,>=2.27.0 in /usr/local/lib/python3.10/dist-packages (from tweepy) (2.32.3)\n",
            "Requirement already satisfied: requests-oauthlib<2,>=1.2.0 in /usr/local/lib/python3.10/dist-packages (from tweepy) (1.3.1)\n",
            "Requirement already satisfied: charset-normalizer<4,>=2 in /usr/local/lib/python3.10/dist-packages (from requests<3,>=2.27.0->tweepy) (3.4.0)\n",
            "Requirement already satisfied: idna<4,>=2.5 in /usr/local/lib/python3.10/dist-packages (from requests<3,>=2.27.0->tweepy) (3.10)\n",
            "Requirement already satisfied: urllib3<3,>=1.21.1 in /usr/local/lib/python3.10/dist-packages (from requests<3,>=2.27.0->tweepy) (2.2.3)\n",
            "Requirement already satisfied: certifi>=2017.4.17 in /usr/local/lib/python3.10/dist-packages (from requests<3,>=2.27.0->tweepy) (2024.12.14)\n",
            "Requirement already satisfied: flair in /usr/local/lib/python3.10/dist-packages (0.15.0)\n",
            "Requirement already satisfied: boto3>=1.20.27 in /usr/local/lib/python3.10/dist-packages (from flair) (1.35.90)\n",
            "Requirement already satisfied: conllu<5.0.0,>=4.0 in /usr/local/lib/python3.10/dist-packages (from flair) (4.5.3)\n",
            "Requirement already satisfied: deprecated>=1.2.13 in /usr/local/lib/python3.10/dist-packages (from flair) (1.2.15)\n",
            "Requirement already satisfied: ftfy>=6.1.0 in /usr/local/lib/python3.10/dist-packages (from flair) (6.3.1)\n",
            "Requirement already satisfied: gdown>=4.4.0 in /usr/local/lib/python3.10/dist-packages (from flair) (5.2.0)\n",
            "Requirement already satisfied: huggingface-hub>=0.10.0 in /usr/local/lib/python3.10/dist-packages (from flair) (0.27.0)\n",
            "Requirement already satisfied: langdetect>=1.0.9 in /usr/local/lib/python3.10/dist-packages (from flair) (1.0.9)\n",
            "Requirement already satisfied: lxml>=4.8.0 in /usr/local/lib/python3.10/dist-packages (from flair) (5.3.0)\n",
            "Requirement already satisfied: matplotlib>=2.2.3 in /usr/local/lib/python3.10/dist-packages (from flair) (3.8.0)\n",
            "Requirement already satisfied: more-itertools>=8.13.0 in /usr/local/lib/python3.10/dist-packages (from flair) (10.5.0)\n",
            "Requirement already satisfied: mpld3>=0.3 in /usr/local/lib/python3.10/dist-packages (from flair) (0.5.10)\n",
            "Requirement already satisfied: pptree>=3.1 in /usr/local/lib/python3.10/dist-packages (from flair) (3.1)\n",
            "Requirement already satisfied: python-dateutil>=2.8.2 in /usr/local/lib/python3.10/dist-packages (from flair) (2.8.2)\n",
            "Requirement already satisfied: pytorch-revgrad>=0.2.0 in /usr/local/lib/python3.10/dist-packages (from flair) (0.2.0)\n",
            "Requirement already satisfied: regex>=2022.1.18 in /usr/local/lib/python3.10/dist-packages (from flair) (2024.11.6)\n",
            "Requirement already satisfied: scikit-learn>=1.0.2 in /usr/local/lib/python3.10/dist-packages (from flair) (1.6.0)\n",
            "Requirement already satisfied: segtok>=1.5.11 in /usr/local/lib/python3.10/dist-packages (from flair) (1.5.11)\n",
            "Requirement already satisfied: sqlitedict>=2.0.0 in /usr/local/lib/python3.10/dist-packages (from flair) (2.1.0)\n",
            "Requirement already satisfied: tabulate>=0.8.10 in /usr/local/lib/python3.10/dist-packages (from flair) (0.9.0)\n",
            "Requirement already satisfied: torch!=1.8,>=1.5.0 in /usr/local/lib/python3.10/dist-packages (from flair) (2.5.1+cu121)\n",
            "Requirement already satisfied: tqdm>=4.63.0 in /usr/local/lib/python3.10/dist-packages (from flair) (4.67.1)\n",
            "Requirement already satisfied: transformer-smaller-training-vocab>=0.2.3 in /usr/local/lib/python3.10/dist-packages (from flair) (0.4.0)\n",
            "Requirement already satisfied: transformers<5.0.0,>=4.25.0 in /usr/local/lib/python3.10/dist-packages (from transformers[sentencepiece]<5.0.0,>=4.25.0->flair) (4.47.1)\n",
            "Requirement already satisfied: wikipedia-api>=0.5.7 in /usr/local/lib/python3.10/dist-packages (from flair) (0.7.1)\n",
            "Requirement already satisfied: bioc<3.0.0,>=2.0.0 in /usr/local/lib/python3.10/dist-packages (from flair) (2.1)\n",
            "Requirement already satisfied: jsonlines>=1.2.0 in /usr/local/lib/python3.10/dist-packages (from bioc<3.0.0,>=2.0.0->flair) (4.0.0)\n",
            "Requirement already satisfied: intervaltree in /usr/local/lib/python3.10/dist-packages (from bioc<3.0.0,>=2.0.0->flair) (3.1.0)\n",
            "Requirement already satisfied: docopt in /usr/local/lib/python3.10/dist-packages (from bioc<3.0.0,>=2.0.0->flair) (0.6.2)\n",
            "Requirement already satisfied: botocore<1.36.0,>=1.35.90 in /usr/local/lib/python3.10/dist-packages (from boto3>=1.20.27->flair) (1.35.90)\n",
            "Requirement already satisfied: jmespath<2.0.0,>=0.7.1 in /usr/local/lib/python3.10/dist-packages (from boto3>=1.20.27->flair) (1.0.1)\n",
            "Requirement already satisfied: s3transfer<0.11.0,>=0.10.0 in /usr/local/lib/python3.10/dist-packages (from boto3>=1.20.27->flair) (0.10.4)\n",
            "Requirement already satisfied: wrapt<2,>=1.10 in /usr/local/lib/python3.10/dist-packages (from deprecated>=1.2.13->flair) (1.17.0)\n",
            "Requirement already satisfied: wcwidth in /usr/local/lib/python3.10/dist-packages (from ftfy>=6.1.0->flair) (0.2.13)\n",
            "Requirement already satisfied: beautifulsoup4 in /usr/local/lib/python3.10/dist-packages (from gdown>=4.4.0->flair) (4.12.3)\n",
            "Requirement already satisfied: filelock in /usr/local/lib/python3.10/dist-packages (from gdown>=4.4.0->flair) (3.16.1)\n",
            "Requirement already satisfied: requests[socks] in /usr/local/lib/python3.10/dist-packages (from gdown>=4.4.0->flair) (2.32.3)\n",
            "Requirement already satisfied: fsspec>=2023.5.0 in /usr/local/lib/python3.10/dist-packages (from huggingface-hub>=0.10.0->flair) (2024.10.0)\n",
            "Requirement already satisfied: packaging>=20.9 in /usr/local/lib/python3.10/dist-packages (from huggingface-hub>=0.10.0->flair) (24.2)\n",
            "Requirement already satisfied: pyyaml>=5.1 in /usr/local/lib/python3.10/dist-packages (from huggingface-hub>=0.10.0->flair) (6.0.2)\n",
            "Requirement already satisfied: typing-extensions>=3.7.4.3 in /usr/local/lib/python3.10/dist-packages (from huggingface-hub>=0.10.0->flair) (4.12.2)\n",
            "Requirement already satisfied: six in /usr/local/lib/python3.10/dist-packages (from langdetect>=1.0.9->flair) (1.17.0)\n",
            "Requirement already satisfied: contourpy>=1.0.1 in /usr/local/lib/python3.10/dist-packages (from matplotlib>=2.2.3->flair) (1.3.1)\n",
            "Requirement already satisfied: cycler>=0.10 in /usr/local/lib/python3.10/dist-packages (from matplotlib>=2.2.3->flair) (0.12.1)\n",
            "Requirement already satisfied: fonttools>=4.22.0 in /usr/local/lib/python3.10/dist-packages (from matplotlib>=2.2.3->flair) (4.55.3)\n",
            "Requirement already satisfied: kiwisolver>=1.0.1 in /usr/local/lib/python3.10/dist-packages (from matplotlib>=2.2.3->flair) (1.4.7)\n",
            "Requirement already satisfied: numpy<2,>=1.21 in /usr/local/lib/python3.10/dist-packages (from matplotlib>=2.2.3->flair) (1.26.4)\n",
            "Requirement already satisfied: pillow>=6.2.0 in /usr/local/lib/python3.10/dist-packages (from matplotlib>=2.2.3->flair) (11.0.0)\n",
            "Requirement already satisfied: pyparsing>=2.3.1 in /usr/local/lib/python3.10/dist-packages (from matplotlib>=2.2.3->flair) (3.2.0)\n",
            "Requirement already satisfied: jinja2 in /usr/local/lib/python3.10/dist-packages (from mpld3>=0.3->flair) (3.1.4)\n",
            "Requirement already satisfied: scipy>=1.6.0 in /usr/local/lib/python3.10/dist-packages (from scikit-learn>=1.0.2->flair) (1.13.1)\n",
            "Requirement already satisfied: joblib>=1.2.0 in /usr/local/lib/python3.10/dist-packages (from scikit-learn>=1.0.2->flair) (1.4.2)\n",
            "Requirement already satisfied: threadpoolctl>=3.1.0 in /usr/local/lib/python3.10/dist-packages (from scikit-learn>=1.0.2->flair) (3.5.0)\n",
            "Requirement already satisfied: networkx in /usr/local/lib/python3.10/dist-packages (from torch!=1.8,>=1.5.0->flair) (3.4.2)\n",
            "Requirement already satisfied: sympy==1.13.1 in /usr/local/lib/python3.10/dist-packages (from torch!=1.8,>=1.5.0->flair) (1.13.1)\n",
            "Requirement already satisfied: mpmath<1.4,>=1.1.0 in /usr/local/lib/python3.10/dist-packages (from sympy==1.13.1->torch!=1.8,>=1.5.0->flair) (1.3.0)\n",
            "Requirement already satisfied: tokenizers<0.22,>=0.21 in /usr/local/lib/python3.10/dist-packages (from transformers<5.0.0,>=4.25.0->transformers[sentencepiece]<5.0.0,>=4.25.0->flair) (0.21.0)\n",
            "Requirement already satisfied: safetensors>=0.4.1 in /usr/local/lib/python3.10/dist-packages (from transformers<5.0.0,>=4.25.0->transformers[sentencepiece]<5.0.0,>=4.25.0->flair) (0.4.5)\n",
            "Requirement already satisfied: sentencepiece!=0.1.92,>=0.1.91 in /usr/local/lib/python3.10/dist-packages (from transformers[sentencepiece]<5.0.0,>=4.25.0->flair) (0.2.0)\n",
            "Requirement already satisfied: protobuf in /usr/local/lib/python3.10/dist-packages (from transformers[sentencepiece]<5.0.0,>=4.25.0->flair) (4.25.5)\n",
            "Requirement already satisfied: urllib3!=2.2.0,<3,>=1.25.4 in /usr/local/lib/python3.10/dist-packages (from botocore<1.36.0,>=1.35.90->boto3>=1.20.27->flair) (2.2.3)\n",
            "Requirement already satisfied: attrs>=19.2.0 in /usr/local/lib/python3.10/dist-packages (from jsonlines>=1.2.0->bioc<3.0.0,>=2.0.0->flair) (24.3.0)\n",
            "Requirement already satisfied: accelerate>=0.26.0 in /usr/local/lib/python3.10/dist-packages (from transformers[sentencepiece,torch]<5.0,>=4.1->transformer-smaller-training-vocab>=0.2.3->flair) (1.2.1)\n",
            "Requirement already satisfied: soupsieve>1.2 in /usr/local/lib/python3.10/dist-packages (from beautifulsoup4->gdown>=4.4.0->flair) (2.6)\n",
            "Requirement already satisfied: sortedcontainers<3.0,>=2.0 in /usr/local/lib/python3.10/dist-packages (from intervaltree->bioc<3.0.0,>=2.0.0->flair) (2.4.0)\n",
            "Requirement already satisfied: MarkupSafe>=2.0 in /usr/local/lib/python3.10/dist-packages (from jinja2->mpld3>=0.3->flair) (3.0.2)\n",
            "Requirement already satisfied: charset-normalizer<4,>=2 in /usr/local/lib/python3.10/dist-packages (from requests[socks]->gdown>=4.4.0->flair) (3.4.0)\n",
            "Requirement already satisfied: idna<4,>=2.5 in /usr/local/lib/python3.10/dist-packages (from requests[socks]->gdown>=4.4.0->flair) (3.10)\n",
            "Requirement already satisfied: certifi>=2017.4.17 in /usr/local/lib/python3.10/dist-packages (from requests[socks]->gdown>=4.4.0->flair) (2024.12.14)\n",
            "Requirement already satisfied: PySocks!=1.5.7,>=1.5.6 in /usr/local/lib/python3.10/dist-packages (from requests[socks]->gdown>=4.4.0->flair) (1.7.1)\n",
            "Requirement already satisfied: psutil in /usr/local/lib/python3.10/dist-packages (from accelerate>=0.26.0->transformers[sentencepiece,torch]<5.0,>=4.1->transformer-smaller-training-vocab>=0.2.3->flair) (5.9.5)\n"
          ]
        }
      ],
      "source": [
        "!pip install tweepy\n",
        "!pip install flair"
      ]
    },
    {
      "cell_type": "code",
      "execution_count": 2,
      "metadata": {
        "id": "W4s0Nz7hmH80"
      },
      "outputs": [],
      "source": [
        "consumerkey=\"UdOAMKE145NMAJ2LFMNeLPrsp\"\n",
        "consumerkey_sec=\"kDRGSH0BWyt4CUuElc0MF5W5OSwG5pOlKAGMbsrmjQErY8Bzbt\"\n",
        "btoken=\"AAAAAAAAAAAAAAAAAAAAAHskxwEAAAAA1aYVAj10vxBT10IaWtqoeabhQGI%3DSFLqYY1LO9E6IdRSqwZz2IIeygRT97Dv3bZCS6DYRkwDi5KsJa\"\n",
        "accesstoken=\"1477638313099948033-onbyALIYeY423VbYtQDekm9yL2SgXB\"\n",
        "accesstoken_sec=\"feO44pul6jp4iR00nLP8SRgoD3tfPhCwUQsZ9q7CdrUTy\""
      ]
    },
    {
      "cell_type": "code",
      "execution_count": 3,
      "metadata": {
        "id": "j9QqAj-Umdr5"
      },
      "outputs": [],
      "source": [
        "import tweepy\n",
        "import re\n",
        "import time\n",
        "\n",
        "from flair.models import TextClassifier\n",
        "from flair.data import Sentence"
      ]
    },
    {
      "cell_type": "code",
      "execution_count": 4,
      "metadata": {
        "colab": {
          "base_uri": "https://localhost:8080/"
        },
        "id": "O08Z1OjnmhbR",
        "outputId": "0781dbe4-608d-4d3f-9513-84030d03ad2c"
      },
      "outputs": [
        {
          "output_type": "execute_result",
          "data": {
            "text/plain": [
              "Response(data=<User id=1477638313099948033 name=Weirdoaffff username=omikar243>, includes={}, errors=[], meta={})"
            ]
          },
          "metadata": {},
          "execution_count": 4
        }
      ],
      "source": [
        "##initialize tweepy\n",
        "api = tweepy.Client(btoken, consumer_key=consumerkey, consumer_secret=consumerkey_sec, access_token=accesstoken, access_token_secret=accesstoken_sec, wait_on_rate_limit=True)\n",
        "api.get_me()"
      ]
    },
    {
      "cell_type": "code",
      "execution_count": 5,
      "metadata": {
        "colab": {
          "base_uri": "https://localhost:8080/"
        },
        "id": "UvuTQ8f-nxzc",
        "outputId": "60f2dcf3-4756-4cc7-e7ef-0be759caedc9"
      },
      "outputs": [
        {
          "output_type": "stream",
          "name": "stderr",
          "text": [
            "WARNING:tweepy.client:Rate limit exceeded. Sleeping for 586 seconds.\n"
          ]
        },
        {
          "output_type": "stream",
          "name": "stdout",
          "text": [
            "#pythonprogramming #PHPProgramming #JavaProgramming #datascience #chatgpt #quotes #openai #codingquotes #programmingquotes #programminglanguage #instagram #playstore #digitalmarketing #technology #java #android #coding #programming #code #ai #machinelearning\n",
            "------------------------------------------------------\n",
            "✨ ALIEXPRESS CUPOM✨\n",
            "\n",
            "Melhores ofertas, desconto na Ali Express\n",
            "\n",
            "NO BRASIL SEM TAXAS\n",
            "https://t.co/ZO4QeP22f0\n",
            "\n",
            "ACHADO DA SEMANA\n",
            "https://t.co/vz4lrsPSxn\n",
            "\n",
            "#Oferta #Cupom #Cupons #Desconto #Deal #CupomDeDesconto #Discount #DiscountCode #Code #AliExpress #PromoCode\n",
            "\n",
            " December 28, … https://t.co/rKGbBcG1VZ\n",
            "------------------------------------------------------\n",
            "RT @DPhillipi56424: @DenizCryptoFam @CryptoCaesarTA @TheCode0X #Code have a great potential https://t.co/AYHKizWoKc\n",
            "------------------------------------------------------\n",
            "RT @Johnpeter418760: @DenizCryptoFam @CryptoCaesarTA @TheCode0X Gm #Code https://t.co/fgyhJAr7cr\n",
            "------------------------------------------------------\n",
            "RT @kyndinfo: Direction of the waves 波の向き \n",
            "https://t.co/Al50fm89AW \n",
            "(Repost/Crosspost)\n",
            "#p5js #math #physics #code #art https://t.co/Xq0Zac9…\n",
            "------------------------------------------------------\n",
            "RT @ZygoFrog: Exciting news! Zygo the Frog AI is nearing completion, boasting robust coding skills and more. This isn't just an update, it'…\n",
            "------------------------------------------------------\n",
            "RT @ZygoFrog: Exciting news! Zygo the Frog AI is nearing completion, boasting robust coding skills and more. This isn't just an update, it'…\n",
            "------------------------------------------------------\n",
            "RT @ZygoFrog: Exciting news! Zygo the Frog AI is nearing completion, boasting robust coding skills and more. This isn't just an update, it'…\n",
            "------------------------------------------------------\n",
            "RT @sesororoyousef: تطبيق اشتراكات يوفر لك وجبات صحيه على حسب احتياجاتك الغذائيه من خلال خوارزمية معتمده من خبراء التغذية …\n",
            "\n",
            "⁧#عروض⁩ \n",
            "⁧#وجب…\n",
            "------------------------------------------------------\n",
            "تطبيق اشتراكات يوفر لك وجبات صحيه على حسب احتياجاتك الغذائيه من خلال خوارزمية معتمده من خبراء التغذية …\n",
            "\n",
            "⁧#عروض⁩ \n",
            "⁧#وجبات_دايت⁩ ⁧#كالو⁩ ⁦#calo⁩ ⁦#code⁩\n",
            "\n",
            "◌◌كود◌◌◌خصم◌\n",
            " 🟩 SEREE26F3 🟩 https://t.co/qpEKdAVALb\n",
            "------------------------------------------------------\n"
          ]
        }
      ],
      "source": [
        "##get tweets in real time\n",
        "response = api.search_recent_tweets('#code')\n",
        "\n",
        "tweets=response.data\n",
        "for tweet in tweets:\n",
        "  print(tweet.text)\n",
        "  print('------------------------------------------------------')"
      ]
    },
    {
      "cell_type": "code",
      "execution_count": 6,
      "metadata": {
        "id": "XHMJa6Etrfe-"
      },
      "outputs": [],
      "source": [
        "def preprocess_text(text):\n",
        "  text=text.lower()\n",
        "  text=re.sub(\"@[\\w]*\",\"\",text)\n",
        "  text=re.sub(\"http\\s+\",\"\",text)\n",
        "  text=re.sub(\"[^a-zA-Z#']\",\" \",text)\n",
        "  text=re.sub(\"rt\",\"\",text)\n",
        "  text=re.sub(\"\\s+\",\" \",text)\n",
        "\n",
        "  return text\n"
      ]
    },
    {
      "cell_type": "code",
      "execution_count": 7,
      "metadata": {
        "colab": {
          "base_uri": "https://localhost:8080/",
          "height": 70
        },
        "id": "TyAt875ZaReX",
        "outputId": "ed32f2a7-6b76-4042-b20b-f9e37c671682"
      },
      "outputs": [
        {
          "output_type": "execute_result",
          "data": {
            "text/plain": [
              "'تطبيق اشتراكات يوفر لك وجبات صحيه على حسب احتياجاتك الغذائيه من خلال خوارزمية معتمده من خبراء التغذية …\\n\\n\\u2067#عروض\\u2069 \\n\\u2067#وجبات_دايت\\u2069 \\u2067#كالو\\u2069 \\u2066#calo\\u2069 \\u2066#code\\u2069\\n\\n◌◌كود◌◌◌خصم◌\\n 🟩 SEREE26F3 🟩 https://t.co/qpEKdAVALb'"
            ],
            "application/vnd.google.colaboratory.intrinsic+json": {
              "type": "string"
            }
          },
          "metadata": {},
          "execution_count": 7
        }
      ],
      "source": [
        "tweet.text"
      ]
    },
    {
      "cell_type": "code",
      "execution_count": 8,
      "metadata": {
        "colab": {
          "base_uri": "https://localhost:8080/",
          "height": 36
        },
        "id": "tpVa4ND3acho",
        "outputId": "31a65b6a-be15-48c8-f47c-5cbab4f66777"
      },
      "outputs": [
        {
          "output_type": "execute_result",
          "data": {
            "text/plain": [
              "' # # # #calo #code seree f https t co qpekdavalb'"
            ],
            "application/vnd.google.colaboratory.intrinsic+json": {
              "type": "string"
            }
          },
          "metadata": {},
          "execution_count": 8
        }
      ],
      "source": [
        "preprocess_text(tweet.text)"
      ]
    },
    {
      "cell_type": "code",
      "execution_count": 9,
      "metadata": {
        "id": "aeo5BdBTaq5H"
      },
      "outputs": [],
      "source": [
        "#create sentiment analysis\n",
        "\n",
        "classifier= TextClassifier.load('en-sentiment')\n",
        "def get_sentiment(tweet):\n",
        "  sentence=Sentence(tweet)\n",
        "  classifier.predict(sentence)\n",
        "  return str(sentence.labels).split(\"\\'\")[3]\n"
      ]
    },
    {
      "cell_type": "code",
      "execution_count": 10,
      "metadata": {
        "id": "-E5_YBXPbjl4",
        "colab": {
          "base_uri": "https://localhost:8080/",
          "height": 36
        },
        "outputId": "f79a1169-2181-45d9-917b-ad850659ecee"
      },
      "outputs": [
        {
          "output_type": "execute_result",
          "data": {
            "text/plain": [
              "'POSITIVE'"
            ],
            "application/vnd.google.colaboratory.intrinsic+json": {
              "type": "string"
            }
          },
          "metadata": {},
          "execution_count": 10
        }
      ],
      "source": [
        "get_sentiment(tweet.text)"
      ]
    },
    {
      "cell_type": "markdown",
      "source": [
        "real time twt sentiments"
      ],
      "metadata": {
        "id": "QMmoyOOTdGTk"
      }
    },
    {
      "cell_type": "code",
      "source": [
        "def preprocess_text(text):\n",
        "  text=text.lower()\n",
        "  text=re.sub(\"@[\\w]*\",\"\",text)\n",
        "  text=re.sub(\"http\\s+\",\"\",text)\n",
        "  text=re.sub(\"[^a-zA-Z#']\",\" \",text)\n",
        "  text=re.sub(\"rt\",\"\",text)\n",
        "  text=re.sub(\"\\s+\",\" \",text)\n",
        "\n",
        "  return text\n",
        "classifier= TextClassifier.load('en-sentiment')\n",
        "def get_sentiment(tweet):\n",
        "  sentence=Sentence(tweet)\n",
        "  classifier.predict(sentence)\n",
        "\n",
        "  labels_str = str(sentence.labels)\n",
        "\n",
        "  # Check if the split results have enough elements before accessing index 3\n",
        "  if len(labels_str.split(\"\\'\")) > 3:\n",
        "    sentiment = labels_str.split(\"\\'\")[3]\n",
        "  else:\n",
        "    sentiment = \"Neutral\"  # Or handle it differently, e.g., print a message\n",
        "\n",
        "  return sentiment"
      ],
      "metadata": {
        "id": "de9GobidcZ82"
      },
      "execution_count": 13,
      "outputs": []
    },
    {
      "cell_type": "markdown",
      "source": [
        "generate real time sentiments"
      ],
      "metadata": {
        "id": "SXOeBGtrdfpF"
      }
    },
    {
      "cell_type": "code",
      "source": [
        "while True:\n",
        "  tweets= api.search_recent_tweets('#india').data\n",
        "  for tweet in tweets:\n",
        "    original_tweet  = tweet.text\n",
        "    clean_tweet = preprocess_text(original_tweet)\n",
        "    sentiment = get_sentiment(clean_tweet)\n",
        "    print('---------------------------------')\n",
        "    print(original_tweet)\n",
        "    print('---------------------------------')\n",
        "    print('Sentiment:',sentiment)\n",
        "    time.sleep(5)\n",
        "    print('\\n\\n')"
      ],
      "metadata": {
        "colab": {
          "base_uri": "https://localhost:8080/"
        },
        "id": "pSOf6qYzdnkE",
        "outputId": "88ddbb20-28ed-4767-f35d-d95f99373102"
      },
      "execution_count": null,
      "outputs": [
        {
          "output_type": "stream",
          "name": "stderr",
          "text": [
            "WARNING:tweepy.client:Rate limit exceeded. Sleeping for 716 seconds.\n"
          ]
        },
        {
          "output_type": "stream",
          "name": "stdout",
          "text": [
            "---------------------------------\n",
            "Marco ❌\n",
            "BhuvanBam ✅ 😂\n",
            "\n",
            "#Marco #BhuvanBam @Bhuvan_Bam #SalmanKhan #SikandarTeaser #Sikandar #HrithikRoshan #BabyJohn #VarunDhawan #UnniMukundan #Marcohindi #AkshayKumar #AishwaryaRai #AliaBhatt #Sikandar #India #NarendraModi #RahulGandhi #Bollywood #BiggBoss18 #ViratKohli https://t.co/R9tuk23uFH\n",
            "---------------------------------\n",
            "Sentiment: POSITIVE\n",
            "\n",
            "\n",
            "\n",
            "---------------------------------\n",
            "RT @BJP4Maharashtra: सत्ता हे सेवेचे माध्यम आहे .\n",
            "भाजपाचे सदस्य होण्याकरिता 8800002024 या क्रमांकावर मिस्ड कॉल द्या आणि भाजपा परिवाराचे सद…\n",
            "---------------------------------\n",
            "Sentiment: Neutral\n",
            "\n",
            "\n",
            "\n",
            "---------------------------------\n",
            "RT @BJP4Maharashtra: सत्ता हे सेवेचे माध्यम आहे .\n",
            "भाजपाचे सदस्य होण्याकरिता 8800002024 या क्रमांकावर मिस्ड कॉल द्या आणि भाजपा परिवाराचे सद…\n",
            "---------------------------------\n",
            "Sentiment: Neutral\n",
            "\n",
            "\n",
            "\n",
            "---------------------------------\n",
            "RT @BJP4Maharashtra: सत्ता हे सेवेचे माध्यम आहे .\n",
            "भाजपाचे सदस्य होण्याकरिता 8800002024 या क्रमांकावर मिस्ड कॉल द्या आणि भाजपा परिवाराचे सद…\n",
            "---------------------------------\n",
            "Sentiment: Neutral\n",
            "\n",
            "\n",
            "\n",
            "---------------------------------\n",
            "RT @JournoMirror: 2050 तक इंडोनेशिया को पीछे छोड़कर भारत बन जाएगा सबसे ज़्यादा मुस्लिम आबादी वाला देश: प्यू रिसर्च सेंटर\n",
            "\n",
            "#Breaking #Muslim…\n",
            "---------------------------------\n",
            "Sentiment: NEGATIVE\n",
            "\n",
            "\n",
            "\n",
            "---------------------------------\n",
            "RT @BJP4Maharashtra: सत्ता हे सेवेचे माध्यम आहे .\n",
            "भाजपाचे सदस्य होण्याकरिता 8800002024 या क्रमांकावर मिस्ड कॉल द्या आणि भाजपा परिवाराचे सद…\n",
            "---------------------------------\n",
            "Sentiment: Neutral\n",
            "\n",
            "\n",
            "\n",
            "---------------------------------\n",
            "RT @BJP4Maharashtra: सत्ता हे सेवेचे माध्यम आहे .\n",
            "भाजपाचे सदस्य होण्याकरिता 8800002024 या क्रमांकावर मिस्ड कॉल द्या आणि भाजपा परिवाराचे सद…\n",
            "---------------------------------\n",
            "Sentiment: Neutral\n",
            "\n",
            "\n",
            "\n",
            "---------------------------------\n",
            "RT @BJP4Maharashtra: सत्ता हे सेवेचे माध्यम आहे .\n",
            "भाजपाचे सदस्य होण्याकरिता 8800002024 या क्रमांकावर मिस्ड कॉल द्या आणि भाजपा परिवाराचे सद…\n",
            "---------------------------------\n",
            "Sentiment: Neutral\n",
            "\n",
            "\n",
            "\n",
            "---------------------------------\n",
            "RT @Venkatsinivasan: 💥✨ 🔥✨💥😍\n",
            "\n",
            "#SalmanKhan #SikandarTeaser #Bollywood #India \n",
            "\n",
            "Salman khan sir fans Now : \n",
            "\n",
            " https://t.co/BA2fQVKsl8\n",
            "---------------------------------\n",
            "Sentiment: POSITIVE\n",
            "\n",
            "\n",
            "\n",
            "---------------------------------\n",
            "RT @SurajKumarAsp_: China Vs India\n",
            "#china #india https://t.co/hbLG0RCAVV\n",
            "---------------------------------\n",
            "Sentiment: NEGATIVE\n"
          ]
        },
        {
          "output_type": "stream",
          "name": "stderr",
          "text": [
            "WARNING:tweepy.client:Rate limit exceeded. Sleeping for 850 seconds.\n"
          ]
        },
        {
          "output_type": "stream",
          "name": "stdout",
          "text": [
            "\n",
            "\n",
            "\n"
          ]
        }
      ]
    },
    {
      "cell_type": "code",
      "source": [],
      "metadata": {
        "id": "wiEhCv0Zew83"
      },
      "execution_count": null,
      "outputs": []
    }
  ],
  "metadata": {
    "colab": {
      "provenance": [],
      "authorship_tag": "ABX9TyMOYodhxlWJ7eYjvO1yWKv5",
      "include_colab_link": true
    },
    "kernelspec": {
      "display_name": "Python 3",
      "name": "python3"
    },
    "language_info": {
      "name": "python"
    }
  },
  "nbformat": 4,
  "nbformat_minor": 0
}